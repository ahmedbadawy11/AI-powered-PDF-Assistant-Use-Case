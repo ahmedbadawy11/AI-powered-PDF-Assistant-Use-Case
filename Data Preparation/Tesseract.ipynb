{
 "cells": [
  {
   "cell_type": "code",
   "execution_count": 1,
   "metadata": {},
   "outputs": [],
   "source": [
    "import os\n",
    "from pdf2image import convert_from_path\n",
    "import pytesseract\n",
    "from PIL import Image, ImageEnhance, ImageFilter"
   ]
  },
  {
   "cell_type": "markdown",
   "metadata": {},
   "source": [
    "# Convert PDF to Images"
   ]
  },
  {
   "cell_type": "code",
   "execution_count": 3,
   "metadata": {},
   "outputs": [],
   "source": [
    "pytesseract.pytesseract.tesseract_cmd = r'C:\\Program Files\\Tesseract-OCR\\tesseract.exe'\n",
    "\n",
    "def pdf_to_images(pdf_path, output_folder, dpi=300):\n",
    "    images = convert_from_path(pdf_path, dpi=dpi,poppler_path=\"poppler-24.02.0/Library/bin\")\n",
    "    image_paths = []\n",
    "    for i, image in enumerate(images):\n",
    "        image_path = f\"{output_folder}/page_{i + 1}.png\"\n",
    "        image.save(image_path, 'PNG')\n",
    "        image_paths.append(image_path)\n",
    "    return image_paths"
   ]
  },
  {
   "cell_type": "markdown",
   "metadata": {},
   "source": [
    "# enhance image quality and extract text from this images"
   ]
  },
  {
   "cell_type": "code",
   "execution_count": 4,
   "metadata": {},
   "outputs": [
    {
     "name": "stdout",
     "output_type": "stream",
     "text": [
      "Extracted text saved to ./Tesseract_output/output_text/Enviromental_factors_egypt_arabic\n"
     ]
    }
   ],
   "source": [
    "def preprocess_image(image_path):\n",
    "    image = Image.open(image_path)\n",
    "  \n",
    "    image = image.convert('L')\n",
    "   \n",
    "    enhancer = ImageEnhance.Contrast(image)\n",
    "    image = enhancer.enhance(2)\n",
    " \n",
    "    image = image.point(lambda p: p > 128 and 255)\n",
    "   \n",
    "    image = image.filter(ImageFilter.MedianFilter())\n",
    "    return image\n",
    "\n",
    "def extract_text_from_image(image):\n",
    "    custom_config = r'--oem 3 --psm 6'\n",
    "    text = pytesseract.image_to_string(image, lang='ara', config=custom_config)\n",
    "    return text\n",
    "\n",
    "def extract_text_from_images(image_paths,output_txt_files_path):\n",
    "    all_text = \"\"\n",
    "    for i,image_path in enumerate(image_paths):\n",
    "        image = preprocess_image(image_path)\n",
    "        text = extract_text_from_image(image)\n",
    "        pages_path=os.path.join(output_txt_files_path,\"pages\")\n",
    "        if not os.path.exists(pages_path):\n",
    "            os.makedirs(pages_path)\n",
    "        text_file_path = os.path.join(pages_path, f'page_{i + 1}.txt')\n",
    "        save_text_to_file(text,text_file_path)\n",
    "        all_text += text + \"\\n\\n\"\n",
    "    return all_text\n",
    "\n",
    "\n",
    "\n",
    "def save_text_to_file(text, output_file_path):\n",
    "    with open(output_file_path, 'w', encoding='utf-8') as text_file:\n",
    "        text_file.write(text)\n",
    "\n",
    "def main(pdf_path, output_folder, output_txt_files_path):\n",
    "    if not os.path.exists(output_folder):\n",
    "        os.makedirs(output_folder)\n",
    "\n",
    "    if not os.path.exists(output_txt_files_path):\n",
    "        os.makedirs(output_txt_files_path)\n",
    "    \n",
    "    image_paths = pdf_to_images(pdf_path, output_folder)\n",
    "    all_text = extract_text_from_images(image_paths,output_txt_files_path)\n",
    "    all_text_file_path = os.path.join(output_txt_files_path, f'all_text.txt')\n",
    "    save_text_to_file(all_text, all_text_file_path)\n",
    "\n",
    "    print(f\"Extracted text saved to {output_txt_files_path}\")\n",
    "\n",
    "if __name__ == \"__main__\":\n",
    "    pdf_path = \"Enviromental_factors_egypt_arabic.pdf\"\n",
    "    output_folder = './Tesseract_output/output_images'\n",
    "    output_txt_files_path = './Tesseract_output/output_text/Enviromental_factors_egypt_arabic'\n",
    "    main(pdf_path, output_folder, output_txt_files_path)\n"
   ]
  },
  {
   "cell_type": "code",
   "execution_count": null,
   "metadata": {},
   "outputs": [],
   "source": []
  }
 ],
 "metadata": {
  "kernelspec": {
   "display_name": "my_env",
   "language": "python",
   "name": "python3"
  },
  "language_info": {
   "codemirror_mode": {
    "name": "ipython",
    "version": 3
   },
   "file_extension": ".py",
   "mimetype": "text/x-python",
   "name": "python",
   "nbconvert_exporter": "python",
   "pygments_lexer": "ipython3",
   "version": "3.9.0"
  }
 },
 "nbformat": 4,
 "nbformat_minor": 2
}
